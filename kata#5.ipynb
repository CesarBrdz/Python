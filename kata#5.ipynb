{
 "cells": [
  {
   "cell_type": "markdown",
   "metadata": {},
   "source": [
    "## Operadores Aritméticos"
   ]
  },
  {
   "cell_type": "code",
   "execution_count": 9,
   "metadata": {},
   "outputs": [
    {
     "name": "stdout",
     "output_type": "stream",
     "text": [
      "La distancia entre la tierra y jupiter es: 628949330 kilometros\n",
      "La distancia entre la tierra y jupiter es: 390577533.93 millas\n"
     ]
    }
   ],
   "source": [
    "t = 149597870\n",
    "j = 778547200\n",
    "\n",
    "distancia = j - t\n",
    "millas = distancia*0.621\n",
    "\n",
    "print('La distancia entre la tierra y jupiter es:', distancia, 'kilometros')\n",
    "print('La distancia entre la tierra y jupiter es:', millas, 'millas')\n"
   ]
  },
  {
   "cell_type": "markdown",
   "metadata": {},
   "source": [
    "## Convirtiendo cadenas en números y uso de valores absolutos"
   ]
  },
  {
   "cell_type": "code",
   "execution_count": 10,
   "metadata": {},
   "outputs": [
    {
     "name": "stdout",
     "output_type": "stream",
     "text": [
      "628949330\n",
      "La distancia en millas es: 390577533.93\n"
     ]
    }
   ],
   "source": [
    "## Solicitar valores\n",
    "\n",
    "p1 = input('Distancia del sol al primer planeta en km:')\n",
    "p2 = input('Distancia del sol al segundo planeta en km:')\n",
    "\n",
    "#Convertir a numero\n",
    "p1 = int(p1)\n",
    "p2 = int(p2)\n",
    "\n",
    "# Calcular la distacia y convertir a valor absoulto\n",
    "\n",
    "distancia = p2 - p1\n",
    "distancia = abs(distancia)\n",
    "\n",
    "print(distancia)\n",
    "\n",
    "# Convertir la distancia en millas\n",
    "\n",
    "millas = distancia*0.621\n",
    "\n",
    "print('La distancia en millas es:', millas)"
   ]
  },
  {
   "cell_type": "code",
   "execution_count": null,
   "metadata": {},
   "outputs": [],
   "source": []
  }
 ],
 "metadata": {
  "interpreter": {
   "hash": "b03fc1ec4de3e8cf56ef394062f232372c249d0aa449ccb461103527b75e48d6"
  },
  "kernelspec": {
   "display_name": "Python 3.10.2 64-bit",
   "language": "python",
   "name": "python3"
  },
  "language_info": {
   "codemirror_mode": {
    "name": "ipython",
    "version": 3
   },
   "file_extension": ".py",
   "mimetype": "text/x-python",
   "name": "python",
   "nbconvert_exporter": "python",
   "pygments_lexer": "ipython3",
   "version": "3.10.2"
  },
  "orig_nbformat": 4
 },
 "nbformat": 4,
 "nbformat_minor": 2
}
