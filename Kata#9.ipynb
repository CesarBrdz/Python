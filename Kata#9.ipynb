{
 "cells": [
  {
   "cell_type": "markdown",
   "metadata": {},
   "source": [
    "## Uso de Funciones en Python"
   ]
  },
  {
   "cell_type": "code",
   "execution_count": 1,
   "metadata": {},
   "outputs": [],
   "source": [
    "## Argumentos en funciones\n",
    "## Funcion para leer 3 taques de combustible y obtener el promedio\n",
    "\n",
    "def reporte (tprincipal, tsecundario, treserva):\n",
    "    cantprom = (tprincipal + tsecundario + treserva)/3\n",
    "    return f\"\"\"Reporte de combustible:\n",
    "    Cantidad Promedio: {cantprom}%\n",
    "    Tanque principal: {tprincipal}%\n",
    "    Tanque secundario: {tsecundario}%\n",
    "    Tanque de reserva: {treserva}%\n",
    "    \"\"\""
   ]
  },
  {
   "cell_type": "code",
   "execution_count": 3,
   "metadata": {},
   "outputs": [
    {
     "name": "stdout",
     "output_type": "stream",
     "text": [
      "Reporte de combustible:\n",
      "    Cantidad Promedio: 50.0%\n",
      "    Tanque principal: 80%\n",
      "    Tanque secundario: 10%\n",
      "    Tanque de reserva: 60%\n",
      "    \n"
     ]
    }
   ],
   "source": [
    "## Llamado de la funcion, asignando valor a los argumentos\n",
    "\n",
    "print(reporte(80,10,60))"
   ]
  },
  {
   "cell_type": "code",
   "execution_count": 4,
   "metadata": {},
   "outputs": [],
   "source": [
    "## Obtener promedio\n",
    "\n",
    "def promedio (values):\n",
    "    t = sum(values)\n",
    "    num = len(values)\n",
    "    return t / num\n"
   ]
  },
  {
   "cell_type": "code",
   "execution_count": 5,
   "metadata": {},
   "outputs": [
    {
     "data": {
      "text/plain": [
       "82.0"
      ]
     },
     "execution_count": 5,
     "metadata": {},
     "output_type": "execute_result"
    }
   ],
   "source": [
    "promedio([80,85,81])"
   ]
  },
  {
   "cell_type": "markdown",
   "metadata": {},
   "source": [
    "## Argumentos de palabra clave"
   ]
  },
  {
   "cell_type": "code",
   "execution_count": 34,
   "metadata": {},
   "outputs": [],
   "source": [
    "def report (tdes, com, ndes):\n",
    "    return (f\"\"\"Tiempo hasta el destino:{tdes}hrs Combustible a la izquierda: {com} Destino: {ndes}\"\"\")"
   ]
  },
  {
   "cell_type": "code",
   "execution_count": 35,
   "metadata": {},
   "outputs": [
    {
     "data": {
      "text/plain": [
       "'Tiempo hasta el destino:500hrs Combustible a la izquierda: 1200 Destino: Marte'"
      ]
     },
     "execution_count": 35,
     "metadata": {},
     "output_type": "execute_result"
    }
   ],
   "source": [
    "report(500,1200,\"Marte\")"
   ]
  },
  {
   "cell_type": "code",
   "execution_count": 43,
   "metadata": {},
   "outputs": [
    {
     "name": "stdout",
     "output_type": "stream",
     "text": [
      "\n",
      "    Destino Marte\n",
      "    Tiempo de viaje: 76 minutes\n",
      "    Combustible restante: 500000\n",
      "    \n"
     ]
    }
   ],
   "source": [
    "def report(ndes, *minutes, **fuel_reservoirs):\n",
    "    return f\"\"\"\n",
    "    Destino {ndes}\n",
    "    Tiempo de viaje: {sum(minutes)} minutes\n",
    "    Combustible restante: {sum(fuel_reservoirs.values())}\n",
    "    \"\"\"\n",
    "\n",
    "print(report(\"Marte\", 10, 15, 51, main=300000, external=200000))"
   ]
  },
  {
   "cell_type": "code",
   "execution_count": 46,
   "metadata": {},
   "outputs": [
    {
     "name": "stdout",
     "output_type": "stream",
     "text": [
      "\n",
      "    Destino Moon\n",
      "    Tiempo de viaje: 74 minutes\n",
      "    Combustible restante: 500000\n",
      "    main tank --> 300000 gallons left\n",
      "external tank --> 200000 gallons left\n",
      "\n"
     ]
    }
   ],
   "source": [
    "def report(ndes, *minutes, **fuel_reservoirs):\n",
    "    reporte = f\"\"\"\n",
    "    Destino {ndes}\n",
    "    Tiempo de viaje: {sum(minutes)} minutes\n",
    "    Combustible restante: {sum(fuel_reservoirs.values())}\n",
    "    \"\"\"\n",
    "\n",
    "    for tank_name, gallons in fuel_reservoirs.items():\n",
    "        reporte += f\"{tank_name} tank --> {gallons} gallons left\\n\"\n",
    "    return reporte\n",
    "\n",
    "print(report(\"Moon\", 8, 11, 55, main=300000, external=200000))"
   ]
  },
  {
   "cell_type": "code",
   "execution_count": null,
   "metadata": {},
   "outputs": [],
   "source": []
  }
 ],
 "metadata": {
  "interpreter": {
   "hash": "b03fc1ec4de3e8cf56ef394062f232372c249d0aa449ccb461103527b75e48d6"
  },
  "kernelspec": {
   "display_name": "Python 3.10.2 64-bit",
   "language": "python",
   "name": "python3"
  },
  "language_info": {
   "codemirror_mode": {
    "name": "ipython",
    "version": 3
   },
   "file_extension": ".py",
   "mimetype": "text/x-python",
   "name": "python",
   "nbconvert_exporter": "python",
   "pygments_lexer": "ipython3",
   "version": "3.10.2"
  },
  "orig_nbformat": 4
 },
 "nbformat": 4,
 "nbformat_minor": 2
}
