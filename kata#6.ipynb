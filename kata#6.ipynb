{
 "cells": [
  {
   "cell_type": "markdown",
   "metadata": {},
   "source": [
    "## Listas para almacenar datos"
   ]
  },
  {
   "cell_type": "code",
   "execution_count": 1,
   "metadata": {},
   "outputs": [
    {
     "name": "stdout",
     "output_type": "stream",
     "text": [
      "['Mercurio', 'Venus', 'Tierra', 'Marte', 'Jupiter', 'Saturno', 'Urano', 'Neptuno']\n"
     ]
    }
   ],
   "source": [
    "## Creando lista\n",
    "planetas = ['Mercurio','Venus', 'Tierra','Marte', 'Jupiter', 'Saturno', 'Urano', 'Neptuno']\n",
    "\n",
    "print(planetas)"
   ]
  },
  {
   "cell_type": "code",
   "execution_count": 5,
   "metadata": {},
   "outputs": [
    {
     "name": "stdout",
     "output_type": "stream",
     "text": [
      "['Mercurio', 'Venus', 'Tierra', 'Marte', 'Jupiter', 'Saturno', 'Urano', 'Neptuno', 'Pluton', 'Pluton']\n"
     ]
    }
   ],
   "source": [
    "## Agregar valores a una lista\n",
    "\n",
    "planetas.append('Pluton')\n",
    "\n",
    "print(planetas)"
   ]
  },
  {
   "cell_type": "markdown",
   "metadata": {},
   "source": [
    "## Trabajando con datos de una lista"
   ]
  },
  {
   "cell_type": "code",
   "execution_count": 18,
   "metadata": {},
   "outputs": [
    {
     "name": "stdout",
     "output_type": "stream",
     "text": [
      "Estos son los planetas más alejados del sol que el planeta: Tierra\n",
      "['Marte', 'Jupiter', 'Saturno', 'Urano', 'Neptuno', 'Pluton', 'Pluton']\n"
     ]
    }
   ],
   "source": [
    "## Solicitar al usuario un nombre de planeta\n",
    "\n",
    "pusuario = input('Ingrese nombre de planeta:')\n",
    "\n",
    "## Buscar planeta del usuario en la lista\n",
    "\n",
    "pbuscado = (planetas.index(pusuario))\n",
    "\n",
    "print('Estos son los planetas más alejados del sol que el planeta:', pusuario)\n",
    "print(planetas[pbuscado + 1:])"
   ]
  }
 ],
 "metadata": {
  "interpreter": {
   "hash": "b03fc1ec4de3e8cf56ef394062f232372c249d0aa449ccb461103527b75e48d6"
  },
  "kernelspec": {
   "display_name": "Python 3.10.2 64-bit",
   "language": "python",
   "name": "python3"
  },
  "language_info": {
   "codemirror_mode": {
    "name": "ipython",
    "version": 3
   },
   "file_extension": ".py",
   "mimetype": "text/x-python",
   "name": "python",
   "nbconvert_exporter": "python",
   "pygments_lexer": "ipython3",
   "version": "3.10.2"
  },
  "orig_nbformat": 4
 },
 "nbformat": 4,
 "nbformat_minor": 2
}
