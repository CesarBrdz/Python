{
 "cells": [
  {
   "cell_type": "markdown",
   "metadata": {},
   "source": [
    "## Diccionario"
   ]
  },
  {
   "cell_type": "code",
   "execution_count": 11,
   "metadata": {},
   "outputs": [
    {
     "name": "stdout",
     "output_type": "stream",
     "text": [
      "Planeta: Marte Lunas: 2\n"
     ]
    }
   ],
   "source": [
    "## Creación del diccionario\n",
    "\n",
    "planeta = {\n",
    "    'name': 'Marte',\n",
    "    'lunas': 2\n",
    "}\n",
    "\n",
    "## Recuperar valores del diccionario\n",
    "\n",
    "print(\"Planeta: %s\" % planeta.get('name'),\"Lunas: %s\"  % planeta['lunas'])"
   ]
  },
  {
   "cell_type": "code",
   "execution_count": 12,
   "metadata": {},
   "outputs": [
    {
     "name": "stdout",
     "output_type": "stream",
     "text": [
      "Marte tiene una circunferencia de 6752\n"
     ]
    }
   ],
   "source": [
    "## Agregar nuevo valor\n",
    "\n",
    "planeta['np'] = {\n",
    "    'polar': 6752,\n",
    "    'ecuatorial': 6792\n",
    "}\n",
    "\n",
    "## Mostrar valores\n",
    "\n",
    "print(f'{planeta[\"name\"]} tiene una circunferencia de {planeta [\"np\"][\"polar\"]}')"
   ]
  },
  {
   "cell_type": "markdown",
   "metadata": {},
   "source": [
    "## Calculo de valores"
   ]
  },
  {
   "cell_type": "code",
   "execution_count": 17,
   "metadata": {},
   "outputs": [
    {
     "name": "stdout",
     "output_type": "stream",
     "text": [
      "17.833333333333332\n"
     ]
    }
   ],
   "source": [
    "## Calculando numero de lunas en el sistema solar y el promedio de lunas que tiene el planeta\n",
    "\n",
    "planet_moons = {\n",
    "    'mercury': 0,\n",
    "    'venus': 0,\n",
    "    'earth': 1,\n",
    "    'mars': 2,\n",
    "    'jupiter': 79,\n",
    "    'saturn': 82,\n",
    "    'uranus': 27,\n",
    "    'neptune': 14,\n",
    "    'pluto': 5,\n",
    "    'haumea': 2,\n",
    "    'makemake': 1,\n",
    "    'eris': 1\n",
    "}\n",
    "\n",
    "moons = planet_moons.values()\n",
    "planetas = len(planet_moons.keys())\n",
    "\n",
    "tlunas = 0\n",
    "\n",
    "for moon in moons:\n",
    "    tlunas = tlunas + moon\n",
    "\n",
    "prom = tlunas / planetas\n",
    "\n",
    "print(prom)"
   ]
  }
 ],
 "metadata": {
  "interpreter": {
   "hash": "b03fc1ec4de3e8cf56ef394062f232372c249d0aa449ccb461103527b75e48d6"
  },
  "kernelspec": {
   "display_name": "Python 3.10.2 64-bit",
   "language": "python",
   "name": "python3"
  },
  "language_info": {
   "codemirror_mode": {
    "name": "ipython",
    "version": 3
   },
   "file_extension": ".py",
   "mimetype": "text/x-python",
   "name": "python",
   "nbconvert_exporter": "python",
   "pygments_lexer": "ipython3",
   "version": "3.10.2"
  },
  "orig_nbformat": 4
 },
 "nbformat": 4,
 "nbformat_minor": 2
}
