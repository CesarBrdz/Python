{
 "cells": [
  {
   "cell_type": "markdown",
   "metadata": {},
   "source": [
    "## Expresiones de Prueba"
   ]
  },
  {
   "cell_type": "code",
   "execution_count": 20,
   "metadata": {},
   "outputs": [
    {
     "name": "stdout",
     "output_type": "stream",
     "text": [
      "La condición no se cumple, por lo que el valor es diferente de 0\n"
     ]
    }
   ],
   "source": [
    "## Ejecutando Expresión if\n",
    "a = 1\n",
    "\n",
    "if a == 0:\n",
    "    print(\"La condición se cumple, por lo que el valor por defualt es 0\")\n",
    "\n",
    "print(\"La condición no se cumple, por lo que el valor es diferente de 0\")\n"
   ]
  },
  {
   "cell_type": "code",
   "execution_count": 23,
   "metadata": {},
   "outputs": [
    {
     "name": "stdout",
     "output_type": "stream",
     "text": [
      "El numero mayor es: 96\n"
     ]
    }
   ],
   "source": [
    "## Ejecutando Expresion else\n",
    "\n",
    "a = 96\n",
    "b = 55\n",
    "\n",
    "if a < b:\n",
    "    print(\"El numero mayor es:\", b)\n",
    "else:\n",
    "    print(\"El numero mayor es:\", a)"
   ]
  },
  {
   "cell_type": "code",
   "execution_count": 30,
   "metadata": {},
   "outputs": [
    {
     "name": "stdout",
     "output_type": "stream",
     "text": [
      "La variable es impar y mayor que 100\n"
     ]
    }
   ],
   "source": [
    "## Ejecutando Expresión elif\n",
    "a = 101\n",
    "\n",
    "if a % 2 == 0:\n",
    "    print(\"La variable es un numero par\")\n",
    "elif a > 100:\n",
    "    print(\"La variable es impar y mayor que 100\")"
   ]
  },
  {
   "cell_type": "code",
   "execution_count": 17,
   "metadata": {},
   "outputs": [
    {
     "name": "stdout",
     "output_type": "stream",
     "text": [
      "El numero mayor es: 21 y es un numero impar\n"
     ]
    }
   ],
   "source": [
    "## Combinando declaraciones if, elif y else\n",
    "\n",
    "a = 11\n",
    "b = 21\n",
    "\n",
    "if a < b and b % 2 == 0:\n",
    "        print(\"El numero mayor es:\", b , \"y es un numero par\")\n",
    "elif a < b and b % 2 != 0:\n",
    "        print(\"El numero mayor es:\", b, \"y es un numero impar\")\n",
    "elif a > b and a % 2 == 0:\n",
    "        print(\"El numero mayor es:\", a, \"y es un numero par\")\n",
    "else:\n",
    "    print(\"El numero mayor es:\", a, \"y es un numero impar\")"
   ]
  },
  {
   "cell_type": "markdown",
   "metadata": {},
   "source": [
    "## Expresiones anidadas"
   ]
  },
  {
   "cell_type": "code",
   "execution_count": 52,
   "metadata": {},
   "outputs": [
    {
     "name": "stdout",
     "output_type": "stream",
     "text": [
      "Los numeros son iguales\n"
     ]
    }
   ],
   "source": [
    "a = 5\n",
    "b = 5\n",
    "\n",
    "if a < b:\n",
    "    print(\"El numero mayor es\", b)\n",
    "    if b % 2 == 0:\n",
    "        print(\"El numero\", b, \"es par\")\n",
    "    else:\n",
    "        print(\"El numero\", a, \"es impar\")\n",
    "elif a > b:\n",
    "    print(\"El numero mayor es\", a)\n",
    "else:\n",
    "    print(\"Los numeros son iguales\")"
   ]
  },
  {
   "cell_type": "markdown",
   "metadata": {},
   "source": [
    "## Operadores and y or"
   ]
  },
  {
   "cell_type": "code",
   "execution_count": 10,
   "metadata": {},
   "outputs": [
    {
     "name": "stdout",
     "output_type": "stream",
     "text": [
      "La variable 12 es par y multiplo de 3\n"
     ]
    }
   ],
   "source": [
    "## Operador and\n",
    "\n",
    "a = 12\n",
    "\n",
    "if a % 2 == 0 and a % 3 ==0:\n",
    "    print(\"La variable\", a, \"es par y multiplo de 3\")"
   ]
  },
  {
   "cell_type": "code",
   "execution_count": 8,
   "metadata": {},
   "outputs": [
    {
     "name": "stdout",
     "output_type": "stream",
     "text": [
      "La variable es igual o menor que 0\n"
     ]
    }
   ],
   "source": [
    "## Operador or\n",
    "\n",
    "a = -5\n",
    "\n",
    "if a == 0 or a < 0:\n",
    "    print(\"La variable\", \"es igual o menor que 0\")\n",
    "else:\n",
    "    print(\"La variable\", \"es mayor que 0\")"
   ]
  }
 ],
 "metadata": {
  "interpreter": {
   "hash": "b03fc1ec4de3e8cf56ef394062f232372c249d0aa449ccb461103527b75e48d6"
  },
  "kernelspec": {
   "display_name": "Python 3.10.2 64-bit",
   "language": "python",
   "name": "python3"
  },
  "language_info": {
   "codemirror_mode": {
    "name": "ipython",
    "version": 3
   },
   "file_extension": ".py",
   "mimetype": "text/x-python",
   "name": "python",
   "nbconvert_exporter": "python",
   "pygments_lexer": "ipython3",
   "version": "3.10.2"
  },
  "orig_nbformat": 4
 },
 "nbformat": 4,
 "nbformat_minor": 2
}
